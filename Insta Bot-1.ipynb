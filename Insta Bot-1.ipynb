{
 "cells": [
  {
   "cell_type": "code",
   "execution_count": 1,
   "metadata": {},
   "outputs": [],
   "source": [
    "# importing required libraries\n",
    "from selenium import webdriver\n",
    "from selenium.common.exceptions import NoSuchElementException\n",
    "from selenium.webdriver.support.ui import WebDriverWait\n",
    "import time\n",
    "from selenium.webdriver.common.keys import Keys"
   ]
  },
  {
   "cell_type": "code",
   "execution_count": 2,
   "metadata": {},
   "outputs": [
    {
     "data": {
      "text/plain": [
       "<selenium.webdriver.chrome.webdriver.WebDriver (session=\"c25fd7cb327467e2b9ae9cfa2c6a0b86\")>"
      ]
     },
     "execution_count": 2,
     "metadata": {},
     "output_type": "execute_result"
    }
   ],
   "source": [
    "driver=webdriver.Chrome(executable_path='/Users/DELL/Documents/chromedriver')\n",
    "driver"
   ]
  },
  {
   "cell_type": "code",
   "execution_count": 3,
   "metadata": {},
   "outputs": [
    {
     "name": "stderr",
     "output_type": "stream",
     "text": [
      "C:\\Users\\DELL\\anaconda3\\lib\\site-packages\\bs4\\__init__.py:389: UserWarning: \"https://www.instagram.com/\" looks like a URL. Beautiful Soup is not an HTTP client. You should probably use an HTTP client like requests to get the document behind the URL, and feed that document to Beautiful Soup.\n",
      "  ' that document to Beautiful Soup.' % decoded_markup\n"
     ]
    }
   ],
   "source": [
    "driver.get('https://www.instagram.com/')"
   ]
  },
  {
   "cell_type": "code",
   "execution_count": 4,
   "metadata": {},
   "outputs": [],
   "source": [
    "#logging in to instagram handle\n",
    "#username\n",
    "username = driver.find_element_by_name(\"username\")\n",
    "username.send_keys('username')\n",
    "\n",
    "#password\n",
    "password=driver.find_element_by_name('password')\n",
    "password.send_keys('password')\n",
    "\n",
    "#submit\n",
    "password.send_keys('\\n')"
   ]
  },
  {
   "cell_type": "code",
   "execution_count": 8,
   "metadata": {},
   "outputs": [],
   "source": [
    "#Searching for food \n",
    "time.sleep(5)\n",
    "search = driver.find_element_by_xpath('//input[contains(@class,\"XTCLo\")]'\n",
    "        )\n",
    "search.send_keys('food')"
   ]
  },
  {
   "cell_type": "code",
   "execution_count": 1,
   "metadata": {},
   "outputs": [
    {
     "ename": "NameError",
     "evalue": "name 'time' is not defined",
     "output_type": "error",
     "traceback": [
      "\u001b[1;31m---------------------------------------------------------------------------\u001b[0m",
      "\u001b[1;31mNameError\u001b[0m                                 Traceback (most recent call last)",
      "\u001b[1;32m<ipython-input-1-3031fb11b110>\u001b[0m in \u001b[0;36m<module>\u001b[1;34m\u001b[0m\n\u001b[0;32m      1\u001b[0m \u001b[1;31m#Extracting names of instagram handles\u001b[0m\u001b[1;33m\u001b[0m\u001b[1;33m\u001b[0m\u001b[1;33m\u001b[0m\u001b[0m\n\u001b[1;32m----> 2\u001b[1;33m \u001b[0mtime\u001b[0m\u001b[1;33m.\u001b[0m\u001b[0msleep\u001b[0m\u001b[1;33m(\u001b[0m\u001b[1;36m1\u001b[0m\u001b[1;33m)\u001b[0m\u001b[1;33m\u001b[0m\u001b[1;33m\u001b[0m\u001b[0m\n\u001b[0m\u001b[0;32m      3\u001b[0m \u001b[0mlist_10_handles\u001b[0m\u001b[1;33m=\u001b[0m\u001b[1;33m[\u001b[0m\u001b[1;33m]\u001b[0m\u001b[1;33m\u001b[0m\u001b[1;33m\u001b[0m\u001b[0m\n\u001b[0;32m      4\u001b[0m \u001b[0msearches\u001b[0m\u001b[1;33m=\u001b[0m \u001b[0mdriver\u001b[0m\u001b[1;33m.\u001b[0m\u001b[0mfind_elements_by_xpath\u001b[0m\u001b[1;33m(\u001b[0m\u001b[1;34m'//div[@class=\"fuqBx\"]/a'\u001b[0m\u001b[1;33m)\u001b[0m\u001b[1;33m\u001b[0m\u001b[1;33m\u001b[0m\u001b[0m\n\u001b[0;32m      5\u001b[0m \u001b[0mt\u001b[0m\u001b[1;33m=\u001b[0m\u001b[1;36m0\u001b[0m\u001b[1;33m\u001b[0m\u001b[1;33m\u001b[0m\u001b[0m\n",
      "\u001b[1;31mNameError\u001b[0m: name 'time' is not defined"
     ]
    }
   ],
   "source": [
    "#Extracting names of instagram handles\n",
    "time.sleep(1)\n",
    "searches= driver.find_elements_by_xpath('//div[@class=\"fuqBx\"]/a')\n",
    "t=0\n",
    "for i in searches:\n",
    "    if str(i.get_attribute('href')).find('tags')>0:  #avoiding tags\n",
    "        continue\n",
    "    else:\n",
    "        try: \n",
    "            account = driver.find_element_by_xpath('//div[@class=\"fuqBx\"]/a['+str(t)+']/div/div[2]/div/span')\n",
    "            print(account.get_attribute('innerHTML'))\n",
    "            t+=1\n",
    "        except NoSuchElementException:  \n",
    "            continue\n",
    "    "
   ]
  },
  {
   "cell_type": "code",
   "execution_count": 11,
   "metadata": {},
   "outputs": [],
   "source": [
    "#Searching for sodelhi and opening\n",
    "search.send_keys('\\b\\b\\b\\b')\n",
    "search.send_keys('sodelhi')\n",
    "time.sleep(1)\n",
    "driver.find_element_by_partial_link_text('sodelhi').click()"
   ]
  },
  {
   "cell_type": "code",
   "execution_count": 14,
   "metadata": {},
   "outputs": [
    {
     "name": "stdout",
     "output_type": "stream",
     "text": [
      "Follow\n",
      "sodelhi followed\n"
     ]
    }
   ],
   "source": [
    "#follow/unfollow\n",
    "time.sleep(5)\n",
    "follow = driver.find_element_by_xpath('//button[contains(@class,\"_5f5mN\")]')\n",
    "print(follow.get_attribute('innerHTML'))\n",
    "\n",
    "if follow.get_attribute('innerHTML')=='Follow': #check if not following\n",
    "    follow.click()       \n",
    "    print('sodelhi followed')\n",
    "    \n",
    "else:     \n",
    "    follow.click()  #else unfollow\n",
    "    driver.find_element_by_xpath('//button[contains(@class,\"aOOlW\")]').click()\n",
    "    print('sodelhi already following')"
   ]
  },
  {
   "cell_type": "code",
   "execution_count": 15,
   "metadata": {},
   "outputs": [
    {
     "name": "stdout",
     "output_type": "stream",
     "text": [
      "sodelhi unfollowed\n"
     ]
    }
   ],
   "source": [
    "if follow.get_attribute('innerHTML')=='Follow':  #check if unfollowed\n",
    "    print('Already unfollowed')\n",
    "else:\n",
    "    follow.click()       #unfollow\n",
    "    driver.find_element_by_xpath('//button[contains(@class,\"aOOlW\")]').click()\n",
    "    print('sodelhi unfollowed')"
   ]
  },
  {
   "cell_type": "code",
   "execution_count": 16,
   "metadata": {},
   "outputs": [],
   "source": [
    "#search for dilsefoodie\n",
    "time.sleep(1)\n",
    "search = driver.find_element_by_xpath('//input[contains(@class,\"XTCLo\")]'\n",
    "        )\n",
    "search.send_keys('dilsefoodie')\n",
    "time.sleep(1)\n",
    "driver.find_element_by_partial_link_text('dilsefoodie').click()\n"
   ]
  },
  {
   "cell_type": "code",
   "execution_count": 18,
   "metadata": {},
   "outputs": [
    {
     "ename": "IndexError",
     "evalue": "list index out of range",
     "output_type": "error",
     "traceback": [
      "\u001b[1;31m---------------------------------------------------------------------------\u001b[0m",
      "\u001b[1;31mIndexError\u001b[0m                                Traceback (most recent call last)",
      "\u001b[1;32m<ipython-input-18-c5b07c384939>\u001b[0m in \u001b[0;36m<module>\u001b[1;34m\u001b[0m\n\u001b[0;32m      8\u001b[0m     \u001b[0mtime\u001b[0m\u001b[1;33m.\u001b[0m\u001b[0msleep\u001b[0m\u001b[1;33m(\u001b[0m\u001b[1;36m1\u001b[0m\u001b[1;33m)\u001b[0m\u001b[1;33m\u001b[0m\u001b[1;33m\u001b[0m\u001b[0m\n\u001b[0;32m      9\u001b[0m \u001b[1;33m\u001b[0m\u001b[0m\n\u001b[1;32m---> 10\u001b[1;33m     \u001b[0mdriver\u001b[0m\u001b[1;33m.\u001b[0m\u001b[0mfind_elements_by_class_name\u001b[0m\u001b[1;33m(\u001b[0m\u001b[1;34m'wpO6b'\u001b[0m\u001b[1;33m)\u001b[0m\u001b[1;33m[\u001b[0m\u001b[1;36m2\u001b[0m\u001b[1;33m]\u001b[0m\u001b[1;33m.\u001b[0m\u001b[0mclick\u001b[0m\u001b[1;33m(\u001b[0m\u001b[1;33m)\u001b[0m\u001b[1;33m\u001b[0m\u001b[1;33m\u001b[0m\u001b[0m\n\u001b[0m\u001b[0;32m     11\u001b[0m     \u001b[0mdriver\u001b[0m\u001b[1;33m.\u001b[0m\u001b[0mfind_elements_by_class_name\u001b[0m\u001b[1;33m(\u001b[0m\u001b[1;34m'wpO6b'\u001b[0m\u001b[1;33m)\u001b[0m\u001b[1;33m[\u001b[0m\u001b[1;36m30\u001b[0m\u001b[1;33m]\u001b[0m\u001b[1;33m.\u001b[0m\u001b[0mclick\u001b[0m\u001b[1;33m(\u001b[0m\u001b[1;33m)\u001b[0m\u001b[1;33m\u001b[0m\u001b[1;33m\u001b[0m\u001b[0m\n\u001b[0;32m     12\u001b[0m     \u001b[1;32mif\u001b[0m \u001b[0mt\u001b[0m\u001b[1;33m==\u001b[0m\u001b[1;36m30\u001b[0m\u001b[1;33m:\u001b[0m\u001b[1;33m\u001b[0m\u001b[1;33m\u001b[0m\u001b[0m\n",
      "\u001b[1;31mIndexError\u001b[0m: list index out of range"
     ]
    }
   ],
   "source": [
    "#like first 30 posts\n",
    "time.sleep(3)\n",
    "posts = driver.find_elements_by_xpath('//div[contains(@class,\"v1Nh3\")]')\n",
    "t=1\n",
    "\n",
    "for i in posts:\n",
    "    i.click()\n",
    "\n",
    "    time.sleep(2)\n",
    "\n",
    "    driver.find_elements_by_class_name('wpO6b')[2].click()\n",
    "    driver.find_elements_by_class_name('wpO6b')[30].click()\n",
    "    if t==30:\n",
    "        break\n",
    "    t+=1\n",
    "print('30 posts liked')"
   ]
  },
  {
   "cell_type": "code",
   "execution_count": 19,
   "metadata": {},
   "outputs": [
    {
     "name": "stdout",
     "output_type": "stream",
     "text": [
      "30 posts unliked\n"
     ]
    }
   ],
   "source": [
    "#Unlike the first 30 posts\n",
    "t=1\n",
    "\n",
    "for i in posts:\n",
    "    i.click()\n",
    "\n",
    "    time.sleep(2)\n",
    "\n",
    "    driver.find_elements_by_class_name('wpO6b')[2].click()\n",
    "    driver.find_elements_by_class_name('wpO6b')[30].click()\n",
    "    if t==30:\n",
    "        break\n",
    "    t+=1\n",
    "print('30 posts unliked')"
   ]
  },
  {
   "cell_type": "code",
   "execution_count": 20,
   "metadata": {},
   "outputs": [],
   "source": [
    "#search for foodtalkindia\n",
    "search = driver.find_element_by_xpath('//input[contains(@class,\"XTCLo\")]')\n",
    "search.send_keys('foodtalkindia')\n",
    "time.sleep(1)\n",
    "driver.find_element_by_partial_link_text('foodtalkindia').click()"
   ]
  },
  {
   "cell_type": "code",
   "execution_count": 22,
   "metadata": {},
   "outputs": [],
   "source": [
    "#go to followers\n",
    "time.sleep(3)\n",
    "driver.find_element_by_class_name('tc8A9').click()\n",
    "time.sleep(2)\n",
    "driver.find_element_by_class_name('ZIAjV').click()"
   ]
  },
  {
   "cell_type": "code",
   "execution_count": 24,
   "metadata": {
    "scrolled": true
   },
   "outputs": [
    {
     "name": "stdout",
     "output_type": "stream",
     "text": [
      "1309\n",
      "1\n",
      "500\n"
     ]
    }
   ],
   "source": [
    "#Extract first 500 followers and mutual followers\n",
    "time.sleep(2)\n",
    "list_of_mutual=[]\n",
    "list_of_500_fol=[]\n",
    "followers = driver.find_elements_by_class_name('wo9IH')\n",
    "\n",
    "#get the followers elements\n",
    "j = driver.find_elements_by_xpath('//li[contains(@class,\"wo9IH\")]')\n",
    "\n",
    "#to implement scroll function to go to the bottom most\n",
    "for k in j:\n",
    "    driver.execute_script(\"arguments[0].scrollIntoView();\", k)\n",
    "print(len(j))\n",
    "\n",
    "#recalculate number of followers\n",
    "j = driver.find_elements_by_xpath('//li[contains(@class,\"wo9IH\")]')\n",
    "\n",
    "while len(j)<500:    #loop that executes scrolling till 500 fols visible\n",
    "    driver.execute_script(\"arguments[0].scrollIntoView();\",j[len(j)-1])\n",
    "    time.sleep(3)\n",
    "    j = driver.find_elements_by_xpath('//li[contains(@class,\"wo9IH\")]')\n",
    "\n",
    "    \n",
    "    \n",
    "time.sleep(5)\n",
    "\n",
    "t=1\n",
    "#to add elements to the list of first 500 followers\n",
    "for i in driver.find_elements_by_xpath('//a[contains(@class,\"FPmhX\")]'): \n",
    "    list_of_500_fol.append(i.get_attribute('innerHTML'))\n",
    "    if t==500:\n",
    "        break\n",
    "    t+=1\n",
    "\n",
    "    \n",
    "t=1\n",
    "#to add elements to list of mutual followers\n",
    "for i in followers:\n",
    "    f = driver.find_elements_by_xpath('//button[contains(@class,\"sqdOP\")]')[t]\n",
    "    name = str(driver.find_elements_by_xpath('//a[contains(@class,\"FPmhX\")]')[t].get_attribute('innerHTML'))\n",
    "    list_of_mutual.append(name)\n",
    "    if str(f.get_attribute('innerHTML')) == 'Following':\n",
    "        t+=1\n",
    "        continue\n",
    "    else:\n",
    "        break\n",
    "print(len(list_of_mutual))\n",
    "print(len(list_of_500_fol)) "
   ]
  },
  {
   "cell_type": "code",
   "execution_count": 44,
   "metadata": {},
   "outputs": [],
   "source": [
    "driver.find_elements_by_class_name('wpO6b')[1].click()"
   ]
  },
  {
   "cell_type": "code",
   "execution_count": 30,
   "metadata": {},
   "outputs": [],
   "source": [
    "#Search for sodelhi\n",
    "time.sleep(5)\n",
    "search = driver.find_element_by_xpath('//input[contains(@class,\"XTCLo\")]'\n",
    "        )\n",
    "search.send_keys('sodelhi')\n",
    "time.sleep(1)\n",
    "driver.find_element_by_partial_link_text('sodelhi').click()\n"
   ]
  },
  {
   "cell_type": "code",
   "execution_count": 43,
   "metadata": {},
   "outputs": [
    {
     "name": "stdout",
     "output_type": "stream",
     "text": [
      "35\n",
      "35\n",
      "['altruistic_melomaniac', 'him._.anii', 'shreyansjain___', 'pratyusha.dl', 'prateekkatyal_', 'nocturnal.bloom', '_chirag.g', '_madhaav_', 'keshav_naam_ka_ladka', 'dhruvbhrdwaj', 'kochhar_suchet', 'soumya.susan', 'ashutoshguru', 'iamlavanya_gupta', 'durgakatiki', 'realskhan', 'manasjohri', 'aishwaryaa_15', 'ankush__1999', 'rainbowwboww', 'aakash_2809', 'teeka_chhetri', 'divyansh.pahwa', 'cellfishtarun', 'jyoti_diwan_', 'rhapsodic__sapphire', 'akshay_aggarwal.12', '_rajeswari._.dasgupta_', 'ravi_singh_dhiran', 'jimmyrockv', '_thatfeministb_', 'b_a_k_e_n_f_l_a_k_e', 'homelyfitness', 'richa_p03', 'handymandy.__24', 'priyeshhalwadiya', 'ddeepakkumarmishra', 'kanu121260', 'spirit_of_vengeance__', 'ayus.hi9368', 'curious_sonal', 'kamran_sam__', 'forca__andy', 'vinit.kush', 'worldsbestbiryani', 'akhil._.baghel', 'atif.zain.771', 'me_ayushi', 'ishitabhatt85', 'truedealss', 'aniket.mathur29', 'niharika8400', 'jaydeep_sen74', 'i_cutesoul', 'shimpi.malik', 'neha_saroj', 'hungrywali_ladkii', 'from_rosys_kitchen', 'tashh149', 'itz.altams_official', 'rajeshmorwal671', 'soulful.journey90', '_gentlemensayings_', 'ashimsikka', 'neeru3481', 'tastyfoodpoints', 'kanishq_basoya_dellhii0001', 'chombdumemesofficial', 'kristal_kittu', 'himanshmea', 'anha.72', 'ariesmanu2k', 'mindiavi', 'shikhar.seth', 'chef_aali_singh', 'jain_divi_28', 'angel134566', 'jasmee20', 'breakdown3498', 'sha.an05', 'flying_feelings__', 'anshu666492020', 'b2kumarpatel', 'kanhaiya_71', 'kakkerabhishek', 'aditya.swami5', 'iananya.7', 'alex1_got', 'whopetrosexyme', 'nishtha06', 'aadityag834', 'intzar133', 'nraqilah.zhra', 'patchthepugg', 'kausqr9', 'food_guppers', 'navrinder_gill', 'tuni_nisha', 'rat_de_bibilotheque', 'love.quotes0018', 'mandykwek', 'wissal_bellla_2002', 'arorarishabh07', 'priyankabahl', 'solitaryscribbler', 'moacir.chef', 'nehathakur2607', 'ashutosh_neelam_bhardwaj', 'limitedbysky', 'kaustubh01_', 'ynwa_sanchit', 'pvttt.1901', 'anvitparashar', 'arnavmadan01', 'vicky_ayush71', 'sourabhsharma392', 'heshamragabatla', 'cute.quotes.for.teens', 'sahil.bhat1', 'faira____', '_aribaaaa_', 'jyoti_rampal', 'aanvi_17', 'estheticcxx', 'baljeetsingh____', 'faceforfuture_', 'b.medeea', 'firdousmohi', 'the.glamour.boutique', 'opulent_castle', 'girdhar_shikha', 'sumannehru1844', 'cheeeeeeeeeeessyy', 'travel_n_fuddies', 'sharma.jeetendra56', 'sagunsagar', 'yash_kmrr', 'annym_29', 'kuchkhanechalien', 'niket_rohilla', '_doona_32', 'japjeet_kaur08', 'shivam.kochhar.1', 'mehtab_104khan', '_areeshaaaa_', '1heartfeelings', 'homecinema_projector', 'drishya_azad', 'annartisan_customdesigns', 'mansigoel03', 'mesmerising_dew', '_navanika_87_', 'skdr128s', 'kartikkarora', 'gunika13._', 'divya_basan', 'surajdiwakar0082', 'inaaya08gupta', 'itsessential___', 'kavita_monga12', 'hunny_yadav001', 'shivadancer52', 'pavneetsingh_1', 'jessika_patil', 'dc.anchor', 'singh.6983', 'nidhibharti_here', 'harshsharma021', '_._fuckology_._', 'ankushgurjar6400', 'adityaagrawal200', 'sanjanaoberoi_01', 'ashishbxx', 'avm6', 'k_supreet', 'aryan_kherpvt', 'rohit29676', 'sudeepta123', 'antrikshshriv', 'koslia.education', 'underratedphotographer', 'wallflower_gypsy', 'aashima1664', 'apurvapratit', 'shilpi2953', 'rumjhumjaiswal', 'lifeofacurve', 'aishwaryasharma510', 'ilaasharma', 'officialquotesociety.ind', 'l.e.e.n.a.11', 'tuhina.666', '_official_gauravv', 'mr.nawab00786', 'anusha.rizvi1234', '_nematsheikh', 'pinkyyadav2830', 'rash_maan', 'kaur_venus28', 'galli_vanter21', 'lakshikachawla', 'riya_251997', 'one.road.to.another', 'mad_over_maggi', 'fitnessuniverse2', 'deep_nathumajra', 'sharma.shivam58', 'andys_pcs', 'jmdresidencyvk', 'pvl77_1', 'cann_abisdispensary00', 'feelingsfuckus', 'manyeeahh', 'kapttanayush', '_muskan_dhingra_', 'bst_kitchen', 'happy_div7', 'jakelin887', 'addison_masks', 'siddharthmahani', 'paramjeet2359', 'rash296', 'doc_katyal', 'anita_rana02', 'rushi.rcd', 'not.so.pvt', 'swatig308', 'ishaankwatra', 'viplavz', 'its.shanayaarora', '_s.sahu', 'foodazr', '_taehyung_7_', 'shaikhsoyeb969', 'writethoughts2020', 'halte_chitrafc', 'ankush_956', '__mitul09', 'shivam_magon', 'arshiamalhotra7', 'maharajarajesandip', 'pubgucboy', 'anushka.sharma27', 'hrpari', 'yashica.arora.7', 'sargam.14', 'muskaanxchadha', 'vikeshkumar4273', 'aanchal_maheshwari25', 'snap_factoryy', 'sdpersonalvlog', 'priyasewalia', 'ishitabong', 'virtualkidsclub', 'jerry_00_yash', 'official_pawan_patil', 'adityakalra1863', 'prisha_ydv22', 'shri_._ya', 'r_sen42', 'chef_federicosantarpino', 'some.one2887', 'i_induuuuu', 'khushisingh_1662', 'khushivashist006', 'arjunkachroo', 'mindpower_039', 'kartik_bagri', 'hk488104', 'foodfreaks_sincebirth', 'mansi10trivedi', 'kumarsanjayisonline', 'theshweta___', 'rinki_09878', 'ttthlsndk', 'xyz.techz', 'nikita.2612', 'maithreyashettyphotography', 'pallakjasujaa', 'mudit.garg', 'taureanqueen_', 'sandeepsingh4474', 'nidasidddiqui', 'ritikasingh3437', 'tanu0127', '__.mr_singh.__', 'mansiibahl', 'netflix_premium_tricks', 'food_lover_here_', '_sashankk', 'expressions_by_vb', 'globalmusafir', 'pooja2295', 'nj_173314', '_zaidansaari_', 'saha_ji.2.7', 'rmodeltalent', 'flourishbyrohi', 'foto.artphotographyofficial', 'solotraveller_natalia', 'princebrar55', 'altmashchohan', 'spic.eit', 'honeygussain', 'chicken_chachi', 'sumit_kumar_karn_', 'aadityapatwal', 'ishaanvij04', 'imaayushh', 'manav_khanna_05', 'chetnaanjali', 'iam_ankurgupta', 'budgetonwheels', 'wholesalelights', 'iamsudhalohia', 'masterchow.in', 'infosonuinfosonu', 'himanshu6980', '_suchetasarkar_', 'shanku_3269', 'somyyaasingh', 'iamssiddiqui', 'sanju8461', 'the_collegetalks', 'hap.py_soul0001', 'twinklee.611', 'bs_13137', '_original_.0', 'rukichawla', 'bwithvanshika', 'naliaanifirith', 'rehman_aayat05', 'mohd_rafi_2698', 't_l_f_foodies', 'a_popup_bazaar', 'neha.made', 'iamkarangothwal_', 'aaaaarzoooooooo', 'd_dixit_____', 'manny_bo', 'sharmapriyanka.88', 'anubhooti_', 'meprateekgupta', 'rum_hash', 'anushka_narayan1', 'akash.sah.961', 'swatirahuljain', 'swara_srj', 'ashu_travz0', 'iamanishyadav', 'utsav_bajpai98', '_beyond__your__reach_', 'rajmachawal96', 'satyamjha_143', 'offred0707', 'mumtajpinjara', 'budhbadri', 'aviralkapoor', 'chocolatedreamsbymansi', 'gitika_makeup_studio', 'its_tausif_ansaei', '_ash_20._', 'iim_zayn', 'vkaaxh', 'indukapoor25', 'bittu_pgli', 'il_magnifico____', 'preetthethi', 'satnambhambra1313', 'vividhagarg', 'indianvill', 'iamkartikmehta', 'wewalkfoodinhand', '____nody__mohamed____', 'calcuttan_dreamer', '__prateek.21', 'harmanpreet3573', '__viduu', 'thepillowtalk_podcast', 'words._.ofworth', 'adii_agg', 'moonchild_12_', 'archanasharma7554', '__jaswant_313', 'omprakash.mehara']\n"
     ]
    }
   ],
   "source": [
    "#to access followers\n",
    "driver.find_element_by_class_name('tc8A9').click()\n",
    "time.sleep(2)\n",
    "driver.find_element_by_class_name('ZIAjV').click()\n",
    "time.sleep(3)\n",
    "\n",
    "#to implement similar scrolling\n",
    "j = driver.find_elements_by_xpath('//a[contains(@class,\"FPmhX\")]')\n",
    "print(len(j))\n",
    "for k in j:\n",
    "    driver.execute_script(\"arguments[0].scrollIntoView();\", k)\n",
    "print(len(j))\n",
    "j = driver.find_elements_by_xpath('//a[contains(@class,\"FPmhX\")]')\n",
    "while len(j)<500:\n",
    "    driver.execute_script(\"arguments[0].scrollIntoView();\",j[len(j)-1])\n",
    "    time.sleep(3)\n",
    "    j = driver.find_elements_by_xpath('//a[contains(@class,\"FPmhX\")]')\n",
    "    \n",
    "#to add to the list of 500 followers    \n",
    "list_of_500_fol_sodelhi=[]\n",
    "for i in driver.find_elements_by_xpath('//a[contains(@class,\"FPmhX\")]'): \n",
    "    list_of_500_fol_sodelhi.append(i.get_attribute('innerHTML'))\n",
    "    if t==500:\n",
    "        break\n",
    "    t+=1\n",
    "print(list_of_500_fol_sodelhi)"
   ]
  },
  {
   "cell_type": "code",
   "execution_count": 45,
   "metadata": {},
   "outputs": [],
   "source": [
    "#to exit\n",
    "driver.find_elements_by_class_name('wpO6b')[1].click()"
   ]
  },
  {
   "cell_type": "code",
   "execution_count": 46,
   "metadata": {},
   "outputs": [],
   "source": [
    "#search coding.ninjas\n",
    "search = driver.find_element_by_xpath('//input[contains(@class,\"XTCLo\")]'\n",
    "        )\n",
    "search.send_keys('coding.ninjas')\n",
    "time.sleep(1)\n",
    "driver.find_element_by_partial_link_text('coding.ninjas').click()"
   ]
  },
  {
   "cell_type": "code",
   "execution_count": 48,
   "metadata": {},
   "outputs": [
    {
     "name": "stdout",
     "output_type": "stream",
     "text": [
      "There is a story\n",
      "Story clicked\n"
     ]
    }
   ],
   "source": [
    "#to check if story exists and whether it has been seen\n",
    "time.sleep(2)\n",
    "has_story = driver.find_element_by_xpath('//div[contains(@class,\"RR-M-\")]')\n",
    "if has_story.get_attribute('aria-disabled')=='false': #condition for story\n",
    "    print('There is a story')\n",
    "    \n",
    "    #condition for viewed story\n",
    "    if driver.find_element_by_xpath('//canvas[@class=\"CfWVH\"]').get_attribute('height')=='87':\n",
    "        print('The story has already been viewed')\n",
    "   \n",
    "    #condition for story not viewed\n",
    "    else:\n",
    "        driver.find_element_by_class_name(\"_2dbep\").click() #story clicked\n",
    "        print('Story clicked')      \n",
    "else:\n",
    "    print('There is no story')"
   ]
  },
  {
   "cell_type": "code",
   "execution_count": 49,
   "metadata": {},
   "outputs": [],
   "source": [
    "time.sleep(5)"
   ]
  }
 ],
 "metadata": {
  "kernelspec": {
   "display_name": "Python 3",
   "language": "python",
   "name": "python3"
  },
  "language_info": {
   "codemirror_mode": {
    "name": "ipython",
    "version": 3
   },
   "file_extension": ".py",
   "mimetype": "text/x-python",
   "name": "python",
   "nbconvert_exporter": "python",
   "pygments_lexer": "ipython3",
   "version": "3.7.6"
  }
 },
 "nbformat": 4,
 "nbformat_minor": 4
}
