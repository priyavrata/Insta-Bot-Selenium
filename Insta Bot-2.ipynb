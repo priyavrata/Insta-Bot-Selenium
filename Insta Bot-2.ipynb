{
 "cells": [
  {
   "cell_type": "code",
   "execution_count": 124,
   "metadata": {},
   "outputs": [],
   "source": [
    "from selenium import webdriver\n",
    "from selenium.common.exceptions import NoSuchElementException\n",
    "from selenium.webdriver.support.ui import WebDriverWait\n",
    "import time\n",
    "from selenium.webdriver.common.keys import Keys\n",
    "from datetime import datetime\n",
    "import pandas as pd\n",
    "from datetime import timedelta\n",
    "import matplotlib.pyplot as plt\n",
    "import csv\n",
    "import re\n",
    "import numpy as np"
   ]
  },
  {
   "cell_type": "code",
   "execution_count": 2,
   "metadata": {},
   "outputs": [
    {
     "data": {
      "text/plain": [
       "<selenium.webdriver.chrome.webdriver.WebDriver (session=\"e6c0f65c03a1c7f4e49e77e9676f403b\")>"
      ]
     },
     "execution_count": 2,
     "metadata": {},
     "output_type": "execute_result"
    }
   ],
   "source": [
    "driver=webdriver.Chrome(executable_path='/Users/DELL/Documents/chromedriver')\n",
    "driver"
   ]
  },
  {
   "cell_type": "code",
   "execution_count": 4,
   "metadata": {},
   "outputs": [],
   "source": [
    "time.sleep(4)\n",
    "driver.get('https://www.instagram.com/')"
   ]
  },
  {
   "cell_type": "code",
   "execution_count": 5,
   "metadata": {},
   "outputs": [],
   "source": [
    "#logging in to instagram handle\n",
    "#username\n",
    "username = driver.find_element_by_name(\"username\")\n",
    "username.send_keys('username')\n",
    "\n",
    "#password\n",
    "password=driver.find_element_by_name('password')\n",
    "password.send_keys('password')\n",
    "\n",
    "#submit\n",
    "password.send_keys('\\n')\n",
    "\n",
    "time.sleep(5)"
   ]
  },
  {
   "cell_type": "code",
   "execution_count": 24,
   "metadata": {},
   "outputs": [],
   "source": [
    "#search for food to scrape the search results\n",
    "\n",
    "search = driver.find_element_by_xpath('//input[contains(@class,\"XTCLo\")]')\n",
    "search.send_keys('food')\n",
    "\n",
    "time.sleep(1)"
   ]
  },
  {
   "cell_type": "code",
   "execution_count": 25,
   "metadata": {},
   "outputs": [
    {
     "name": "stdout",
     "output_type": "stream",
     "text": [
      "foodtalkindia\n",
      "1 298,767\n",
      "dilsefoodie\n",
      "2 553,158\n",
      "foodiekaurexpeditions\n",
      "3 3,632\n",
      "foodiesince96\n",
      "4 253,652\n",
      "food_belly11\n",
      "5 7,024\n",
      "foodys\n",
      "6 9,197,536\n",
      "food\n",
      "7 56,640\n",
      "meltss_\n",
      "8 304\n",
      "foodbossindia\n",
      "9 155,677\n",
      "foodinsider\n",
      "10 2,176,030\n",
      "{'foodtalkindia': '298,767', 'dilsefoodie': '553,158', 'foodiekaurexpeditions': '3,632', 'foodiesince96': '253,652', 'food_belly11': '7,024', 'foodys': '9,197,536', 'food': '56,640', 'meltss_': '304', 'foodbossindia': '155,677', 'foodinsider': '2,176,030'}\n"
     ]
    }
   ],
   "source": [
    "#To store follow count from 10 handles\n",
    "\n",
    "dict_10_handles={}            #To represent the name and follow count\n",
    "list_10_handles=[]            #To represent just the name\n",
    "k=0\n",
    "t=1\n",
    "\n",
    "#Using search results\n",
    "searches= driver.find_element_by_xpath('//div[@class=\"fuqBx\"]/a['+str(t)+']')\n",
    "\n",
    "#Iterating through first 10 searches\n",
    "\n",
    "for i in range(10):\n",
    "    if str(searches.get_attribute('href')).find('tags')>0:  #avoiding tags\n",
    "        t+=1\n",
    "        continue\n",
    "    else:\n",
    "        try: \n",
    "            account = driver.find_element_by_xpath('//div[@class=\"fuqBx\"]/a['+str(t)+']/div/div[2]/div/span')\n",
    "            print(account.get_attribute('innerHTML'))\n",
    "            \n",
    "            #Appending names to the list\n",
    "            list_10_handles.append(account.get_attribute('innerHTML'))\n",
    "            \n",
    "            #Getting to the handle\n",
    "            searches.click()                \n",
    "            \n",
    "            time.sleep(4)\n",
    "            \n",
    "            #Number of followers\n",
    "            fol=driver.find_element_by_xpath('//ul[contains(@class,\"_3dEHb\")]/li[2]/a/span').get_attribute('title')\n",
    "            \n",
    "            #Storing follow count to the dictionary using last element of list\n",
    "            dict_10_handles[list_10_handles[-1]]=fol\n",
    "            print(k+1,fol)\n",
    "            \n",
    "            #Enter food in the search bar\n",
    "            search = driver.find_element_by_xpath('//input[contains(@class,\"XTCLo\")]')\n",
    "            search.send_keys('food')\n",
    "            time.sleep(2)\n",
    "            \n",
    "            t+=1\n",
    "            #Updating searches\n",
    "            searches=driver.find_element_by_xpath('//div[@class=\"fuqBx\"]/a['+str(t)+']')\n",
    "            \n",
    "            time.sleep(2)\n",
    "            \n",
    "            k+=1\n",
    "        except NoSuchElementException:  \n",
    "            continue\n",
    "    if k==10:\n",
    "        search.send_keys('\\b\\b\\b\\b')\n",
    "        break\n",
    "        \n",
    "print(dict_10_handles)"
   ]
  },
  {
   "cell_type": "code",
   "execution_count": 147,
   "metadata": {},
   "outputs": [
    {
     "name": "stdout",
     "output_type": "stream",
     "text": [
      "foodys 9,197,536\n",
      "foodinsider 2,176,030\n",
      "dilsefoodie 553,158\n",
      "foodtalkindia 298,767\n",
      "foodiesince96 253,652\n"
     ]
    }
   ],
   "source": [
    "#Sorting dictionary in Decreasing Order\n",
    "sorted_dict=sorted(dict_10_handles.items(),key=lambda x:float(x[1].replace(',','')),reverse=True)\n",
    "list_of_5=[]\n",
    "list_of_5_fols=[]\n",
    "t=0\n",
    "\n",
    "#Storing data of top 5 handles\n",
    "for i in sorted_dict:\n",
    "    print(i[0],i[1])\n",
    "    list_of_5.append(i[0])\n",
    "    list_of_5_fols.append(float(i[1].replace(',','')))\n",
    "    if t>=4:\n",
    "        break\n",
    "    t+=1"
   ]
  },
  {
   "cell_type": "code",
   "execution_count": 72,
   "metadata": {},
   "outputs": [
    {
     "name": "stdout",
     "output_type": "stream",
     "text": [
      "2020-08-05\n",
      "0 days 00:00:00\n",
      "2020-08-04\n",
      "1 days 00:00:00\n",
      "[1]\n",
      "2020-08-04\n",
      "1 days 00:00:00\n",
      "[1, 0]\n",
      "2020-08-05\n",
      "0 days 00:00:00\n",
      "2020-08-03\n",
      "2 days 00:00:00\n",
      "[1, 0, 1]\n",
      "2020-08-04\n",
      "1 days 00:00:00\n",
      "[1, 0, 1, 0]\n",
      "2020-08-05\n",
      "0 days 00:00:00\n",
      "2020-08-05\n",
      "0 days 00:00:00\n",
      "2020-08-04\n",
      "1 days 00:00:00\n",
      "[1, 0, 1, 0, 2]\n"
     ]
    }
   ],
   "source": [
    "#Getting the number of posts in the top 5 handles done within 3 days \n",
    "posts_of_5=[]\n",
    "date_now=datetime.date(datetime.now())\n",
    "\n",
    "\n",
    "for i in list_of_5:\n",
    "    count=0\n",
    "    \n",
    "    #Searching for the handles\n",
    "    search = driver.find_element_by_xpath('//input[contains(@class,\"XTCLo\")]')\n",
    "    search.send_keys(i)\n",
    "    time.sleep(2)\n",
    "    driver.find_element_by_partial_link_text(i).click()\n",
    "    time.sleep(3)\n",
    "    \n",
    "    #Accessing posts\n",
    "    posts = driver.find_elements_by_xpath('//div[contains(@class,\"v1Nh3\")]')\n",
    "    t=1\n",
    "\n",
    "    #Iterating through posts\n",
    "    for p in posts:\n",
    "        p.click()\n",
    "\n",
    "        time.sleep(2)\n",
    "        date_of_post=driver.find_element_by_xpath('//time[contains(@class,\"_1o9PC\")]').get_attribute('datetime')[0:10]\n",
    "        print(date_of_post)\n",
    "        \n",
    "        #Comparing current data and date of post\n",
    "        diff=(pd.to_datetime(date_now)-pd.to_datetime(date_of_post))\n",
    "        print(diff)\n",
    "        count+=1\n",
    "        time.sleep(1)\n",
    "        \n",
    "        #To press 'X' button\n",
    "        try:\n",
    "            driver.find_elements_by_class_name('wpO6b')[16].click()\n",
    "        except:\n",
    "            try:\n",
    "                driver.find_elements_by_class_name('wpO6b')[30].click()\n",
    "            except:\n",
    "                driver.find_elements_by_class_name('wpO6b')[28].click()\n",
    "        time.sleep(1)\n",
    "        \n",
    "        #Break case\n",
    "        if diff>timedelta(days=3):\n",
    "            break\n",
    "        \n",
    "    #Storing no of posts\n",
    "    posts_of_5.append(count)    \n",
    "    t+=1\n",
    "    print(posts_of_5)\n",
    "    \n",
    "    \n",
    "    "
   ]
  },
  {
   "cell_type": "code",
   "execution_count": 74,
   "metadata": {},
   "outputs": [
    {
     "data": {
      "image/png": "[encoded data removed]",
      "text/plain": [
       "<Figure size 432x288 with 1 Axes>"
      ]
     },
     "metadata": {
      "needs_background": "light"
     },
     "output_type": "display_data"
    }
   ],
   "source": [
    "#Plotting the result as a bar graph\n",
    "\n",
    "fig=plt.figure()\n",
    "ax=fig.add_axes([0,0,1,1])\n",
    "ax.bar(list_of_5,posts_of_5)\n",
    "plt.show()"
   ]
  },
  {
   "cell_type": "code",
   "execution_count": 142,
   "metadata": {},
   "outputs": [
    {
     "name": "stdout",
     "output_type": "stream",
     "text": [
      "[6183.0]\n",
      "{'I': 1, 'can': 1, 'taste': 1, 'this': 1, 'through': 1, 'the': 1, 'phone': 1, 'Chicken': 1, 'cutlet,': 1, 'mozzarella': 1, 'and': 1, 'pesto': 1}\n",
      "{}\n",
      "[6183.0, 2029.0]\n",
      "{'I': 1, 'can': 2, 'taste': 1, 'this': 2, 'through': 1, 'the': 2, 'phone': 1, 'Chicken': 1, 'cutlet,': 1, 'mozzarella': 1, 'and': 1, 'pesto': 1, 'Breweries': 1, 'have': 1, 'been': 1, 'slush-ifying': 1, 'their': 1, 'beers': 1, 'for': 2, 'years': 1, 'but': 1, 'with': 1, 'social': 1, 'distancing': 1, 'measures': 1, 'still': 1, 'in': 3, 'place': 1, 'many': 1, 'cities,': 1, 'you': 2, 'see': 1, 'how': 1, 'to': 2, 'recreate': 1, 'trend': 1, 'right': 1, 'at': 1, 'home.': 1, 'Click': 1, 'link': 1, 'bio': 1, 'learn': 1, 'some': 1, 'key': 1, 'tips': 1, 'which': 1, 'kinds': 1, 'of': 1, 'beer': 1, 'should': 1, 'be': 1, 'using.<br><br>(Credit:': 1, 'Courtney': 1, 'Iseman,': 1, 'Eileen': 1, 'Cofre/': 1, 'class=\"': 4, 'xil3i\"': 4}\n",
      "{'#beer': 1, '#beerslushie': 1, '#happyhour': 1, '#summer': 1}\n",
      "[6183.0, 2029.0, 1648.0]\n",
      "{'I': 1, 'can': 2, 'taste': 1, 'this': 2, 'through': 1, 'the': 2, 'phone': 1, 'Chicken': 1, 'cutlet,': 1, 'mozzarella': 1, 'and': 1, 'pesto': 1, 'Breweries': 1, 'have': 1, 'been': 1, 'slush-ifying': 1, 'their': 1, 'beers': 1, 'for': 2, 'years': 1, 'but': 1, 'with': 1, 'social': 1, 'distancing': 1, 'measures': 1, 'still': 1, 'in': 3, 'place': 1, 'many': 1, 'cities,': 1, 'you': 2, 'see': 1, 'how': 1, 'to': 2, 'recreate': 1, 'trend': 1, 'right': 1, 'at': 1, 'home.': 1, 'Click': 1, 'link': 1, 'bio': 1, 'learn': 1, 'some': 1, 'key': 1, 'tips': 1, 'which': 1, 'kinds': 1, 'of': 1, 'beer': 1, 'should': 1, 'be': 1, 'using.<br><br>(Credit:': 1, 'Courtney': 1, 'Iseman,': 1, 'Eileen': 1, 'Cofre/': 1, 'class=\"': 5, 'xil3i\"': 5, 'After': 1, 'a': 1, 'long': 1, 'time': 1, 'At': 1, ',': 1, 'Cp': 1, '<br>Anyone': 1, 'For': 1, 'Blueberry': 1, 'Cheesecake': 1, '?': 1}\n",
      "{'#beer': 1, '#beerslushie': 1, '#happyhour': 1, '#summer': 1, '#dilsefoodie': 1}\n",
      "[6183.0, 2029.0, 1648.0, 2963.0]\n",
      "{'I': 1, 'can': 2, 'taste': 1, 'this': 2, 'through': 1, 'the': 3, 'phone': 1, 'Chicken': 1, 'cutlet,': 1, 'mozzarella': 1, 'and': 9, 'pesto': 1, 'Breweries': 1, 'have': 1, 'been': 1, 'slush-ifying': 1, 'their': 2, 'beers': 1, 'for': 4, 'years': 1, 'but': 1, 'with': 4, 'social': 1, 'distancing': 1, 'measures': 1, 'still': 1, 'in': 5, 'place': 1, 'many': 2, 'cities,': 1, 'you': 5, 'see': 1, 'how': 1, 'to': 7, 'recreate': 1, 'trend': 1, 'right': 1, 'at': 3, 'home.': 1, 'Click': 1, 'link': 1, 'bio': 1, 'learn': 1, 'some': 1, 'key': 1, 'tips': 1, 'which': 1, 'kinds': 1, 'of': 4, 'beer': 1, 'should': 1, 'be': 1, 'using.<br><br>(Credit:': 1, 'Courtney': 1, 'Iseman,': 1, 'Eileen': 1, 'Cofre/': 1, 'class=\"': 5, 'xil3i\"': 5, 'After': 1, 'a': 5, 'long': 1, 'time': 1, 'At': 1, ',': 1, 'Cp': 1, '<br>Anyone': 1, 'For': 1, 'Blueberry': 1, 'Cheesecake': 1, '?': 1, 'Having': 1, 'well-stocked': 1, 'pantry': 2, 'fridge': 1, 'is': 2, 'like': 1, 'money': 1, 'bank.': 1, 'Swipe': 1, 'left': 1, 'checkout': 1, 'FTI’s': 1, 'weekly': 1, 'picks:<br><br>1.': 1, 'Big': 2, 'Fat': 2, 'Essentials-': 1, 'Gourmet': 1, 'dips,': 1, 'savoury': 1, 'jams,': 1, 'sauces,': 1, 'spreads': 1, 'flavoured': 1, 'cream': 1, 'cheese': 1, 'gourmet': 1, 'breads,': 1, 'bagels,': 1, 'slow-cooked': 1, 'marinated': 1, 'meats': 1, 'other': 1, 'essentials,': 1, 'essentials': 1, 'will': 2, 'become': 1, 'your': 5, 'go-to!': 1, '🥯\\U0001f9c4🥓<br>2.': 1, 'Kylin-': 1, 'Secrets': 1, 'Kylin': 1, 'ready': 1, 'cook': 1, 'sauces': 2, 'home': 3, 'kitchen.': 1, 'From': 1, 'flavourful': 1, 'Burnt': 1, 'Chili': 2, 'Oil': 1, 'delectable': 1, 'Thai': 1, 'Curry': 1, 'Paste,': 1, 'cooking': 2, 'up': 2, 'delicacies': 1, 'just': 1, 'got': 2, 'easier!': 1, '🌶🍲<br>3.': 1, 'Azure': 2, 'Retail-': 1, 'Get': 1, 'satiate': 1, 'cravings': 1, 'these': 1, 'pastes': 1, 'from': 2, 'Retail.': 1, 'We’ve': 1, 'covered': 1, 'those': 2, 'on-point': 1, 'punjabi': 1, 'flavours': 3, 'Dhaba,&nbsp;for': 1, 'slick': 1, 'European': 1, 'by': 2, 'Sly': 1, 'Granny': 1, 'Asian': 1, 'Mamagoto.': 1, '🥘🥢🥡<br>4.': 1, 'Fig': 1, '&amp;': 1, 'Maple': 1, 'Signature-': 1, 'Craving': 1, 'creamy': 1, 'curry': 1, 'loaded': 1, 'tropical': 1, 'flavours,': 1, 'Fig’s': 1, 'Coconut': 1, 'Lime': 1, 'sauce': 1, 'what': 1, 'need': 2, 'or': 2, 'if': 1, 'want': 1, 'cup': 1, 'hot': 1, 'chocolate,': 1, 'glass': 1, 'chilled': 1, 'chocolate': 1, 'malt,': 1, 'frost': 1, 'cakes': 1, 'something': 1, 'slather': 1, 'over': 1, 'pancakes': 1, 'waffles,': 1, 'Ultimate': 1, 'Choco': 1, 'Sauce': 1, 'fulfill': 1, 'needs!': 1, '•': 5}\n",
      "{'#beer': 1, '#beerslushie': 1, '#happyhour': 1, '#summer': 1, '#dilsefoodie': 1}\n",
      "[6183.0, 2029.0, 1648.0, 2963.0, 1144.0]\n",
      "{'I': 1, 'can': 2, 'taste': 1, 'this': 2, 'through': 1, 'the': 3, 'phone': 1, 'Chicken': 1, 'cutlet,': 1, 'mozzarella': 1, 'and': 9, 'pesto': 1, 'Breweries': 1, 'have': 1, 'been': 1, 'slush-ifying': 1, 'their': 2, 'beers': 1, 'for': 7, 'years': 1, 'but': 1, 'with': 4, 'social': 1, 'distancing': 1, 'measures': 1, 'still': 1, 'in': 5, 'place': 1, 'many': 2, 'cities,': 1, 'you': 5, 'see': 1, 'how': 1, 'to': 7, 'recreate': 1, 'trend': 1, 'right': 1, 'at': 3, 'home.': 1, 'Click': 1, 'link': 1, 'bio': 1, 'learn': 1, 'some': 1, 'key': 1, 'tips': 1, 'which': 1, 'kinds': 1, 'of': 4, 'beer': 1, 'should': 1, 'be': 1, 'using.<br><br>(Credit:': 1, 'Courtney': 1, 'Iseman,': 1, 'Eileen': 1, 'Cofre/': 1, 'class=\"': 30, 'xil3i\"': 30, 'After': 1, 'a': 5, 'long': 1, 'time': 1, 'At': 1, ',': 1, 'Cp': 1, '<br>Anyone': 1, 'For': 1, 'Blueberry': 1, 'Cheesecake': 1, '?': 1, 'Having': 1, 'well-stocked': 1, 'pantry': 2, 'fridge': 1, 'is': 2, 'like': 1, 'money': 1, 'bank.': 1, 'Swipe': 1, 'left': 1, 'checkout': 1, 'FTI’s': 1, 'weekly': 1, 'picks:<br><br>1.': 1, 'Big': 2, 'Fat': 2, 'Essentials-': 1, 'Gourmet': 1, 'dips,': 1, 'savoury': 1, 'jams,': 1, 'sauces,': 1, 'spreads': 1, 'flavoured': 1, 'cream': 1, 'cheese': 1, 'gourmet': 1, 'breads,': 1, 'bagels,': 1, 'slow-cooked': 1, 'marinated': 1, 'meats': 1, 'other': 1, 'essentials,': 1, 'essentials': 1, 'will': 2, 'become': 1, 'your': 5, 'go-to!': 1, '🥯\\U0001f9c4🥓<br>2.': 1, 'Kylin-': 1, 'Secrets': 1, 'Kylin': 1, 'ready': 1, 'cook': 1, 'sauces': 2, 'home': 3, 'kitchen.': 1, 'From': 1, 'flavourful': 1, 'Burnt': 1, 'Chili': 2, 'Oil': 1, 'delectable': 1, 'Thai': 1, 'Curry': 1, 'Paste,': 1, 'cooking': 2, 'up': 2, 'delicacies': 1, 'just': 1, 'got': 2, 'easier!': 1, '🌶🍲<br>3.': 1, 'Azure': 2, 'Retail-': 1, 'Get': 1, 'satiate': 1, 'cravings': 1, 'these': 2, 'pastes': 1, 'from': 2, 'Retail.': 1, 'We’ve': 1, 'covered': 1, 'those': 2, 'on-point': 1, 'punjabi': 1, 'flavours': 3, 'Dhaba,&nbsp;for': 1, 'slick': 1, 'European': 1, 'by': 2, 'Sly': 1, 'Granny': 1, 'Asian': 1, 'Mamagoto.': 1, '🥘🥢🥡<br>4.': 1, 'Fig': 1, '&amp;': 1, 'Maple': 1, 'Signature-': 1, 'Craving': 1, 'creamy': 1, 'curry': 1, 'loaded': 1, 'tropical': 1, 'flavours,': 1, 'Fig’s': 1, 'Coconut': 1, 'Lime': 1, 'sauce': 1, 'what': 1, 'need': 2, 'or': 2, 'if': 1, 'want': 1, 'cup': 1, 'hot': 1, 'chocolate,': 1, 'glass': 1, 'chilled': 1, 'chocolate': 1, 'malt,': 1, 'frost': 1, 'cakes': 1, 'something': 1, 'slather': 1, 'over': 1, 'pancakes': 1, 'waffles,': 1, 'Ultimate': 1, 'Choco': 1, 'Sauce': 1, 'fulfill': 1, 'needs!': 1, '•': 5, 'Major': 1, 'craving': 1, 'Galouti': 1, 'burger': 1, '<br>.<br>.<br>Follow': 1, 'more': 1, 'delicious': 1, 'updates<br>YouTube': 1, '-': 2, 'Mehak': 1, 'Dhawan': 1, '<br>Snapchat': 1, 'Foodiesince96': 1}\n",
      "{'#beer': 1, '#beerslushie': 1, '#happyhour': 1, '#summer': 1, '#dilsefoodie': 1, '#Foodtalkindia': 1, '#delicious': 1, '#delhigram': 1, '#feedfeed': 1, '#buzzfeast': 1, '#recipe': 1, '#mumbaifoodie': 1, '#mumbaifood': 1, '#ilovefood': 1, '#instafood': 1, '#nomnom': 1, '#hungry': 1, '#foodstagram': 1, '#eeeeeats': 1, '#foodblogger': 1, '#delhifoodie': 1, '#foodoftheday': 1, '#foodgasm': 1, '#delhi_igers': 1, '#foodiesince96': 1, '#burger': 1, '#farzi': 1, '#galouti': 1, '#burgerlove': 1, '#burgers': 1}\n"
     ]
    }
   ],
   "source": [
    "#Creating list of hashtags and finding 5 most frequently used\n",
    "#Calculating average likes\n",
    "\n",
    "freq_hashtags={}\n",
    "avg_likes=[]\n",
    "\n",
    "#TO remove emojis from hashtags\n",
    "\n",
    "#Unicodes for emojis \n",
    "def remove_emojis(data):\n",
    "    emoj = re.compile(\"[\"\n",
    "        u\"\\U0001F600-\\U0001F64F\"  \n",
    "        u\"\\U0001F300-\\U0001F5FF\"\n",
    "        u\"\\U0001F680-\\U0001F6FF\"  \n",
    "        u\"\\U0001F1E0-\\U0001F1FF\"  \n",
    "        u\"\\U00002500-\\U00002BEF\"  \n",
    "        u\"\\U00002702-\\U000027B0\"\n",
    "        u\"\\U00002702-\\U000027B0\"\n",
    "        u\"\\U000024C2-\\U0001F251\"\n",
    "        u\"\\U0001f926-\\U0001f937\"\n",
    "        u\"\\U00010000-\\U0010ffff\"\n",
    "        u\"\\u2640-\\u2642\" \n",
    "        u\"\\u2600-\\u2B55\"\n",
    "        u\"\\u200d\"\n",
    "        u\"\\u23cf\"\n",
    "        u\"\\u23e9\"\n",
    "        u\"\\u231a\"\n",
    "        u\"\\ufe0f\"  \n",
    "        u\"\\u3030\"\n",
    "                      \"]+\", re.UNICODE)\n",
    "    return re.sub(emoj, '', data)\n",
    "\n",
    "#Iterating through 5 insta handles\n",
    "for i in list_of_5:\n",
    "    likes=0\n",
    "    count=0\n",
    "    search = driver.find_element_by_xpath('//input[contains(@class,\"XTCLo\")]')\n",
    "    search.send_keys(i)\n",
    "    time.sleep(2)\n",
    "    driver.find_element_by_partial_link_text(i).click()\n",
    "    time.sleep(3)\n",
    "    posts = driver.find_elements_by_xpath('//div[contains(@class,\"v1Nh3\")]')\n",
    "    t=1\n",
    "    \n",
    "    #Iterating through 10 posts\n",
    "    for p in posts:\n",
    "        p.click()\n",
    "        time.sleep(1)\n",
    "        \n",
    "        #Case when viewing a picture\n",
    "        try:\n",
    "            no_of_likes=driver.find_element_by_xpath('//button[contains(@class,\"sqdOP\")]/span').get_attribute('innerHTML').replace(',','')\n",
    "        \n",
    "        #Case when viewing a video\n",
    "        except:\n",
    "            driver.find_element_by_class_name('vcOH2').click()\n",
    "            no_of_likes=driver.find_element_by_xpath('//div[@class=\"vJRqr\"]/span').get_attribute('innerHTML').replace(',','')\n",
    "            driver.find_element_by_class_name('QhbhU').click()\n",
    "        \n",
    "        #adding total no of likes of 10 posts\n",
    "        likes+=int(no_of_likes)\n",
    "        \n",
    "        \n",
    "        #Extracting hashtags from captions\n",
    "        caption=driver.find_element_by_xpath('//div[@class=\"C4VMK\"]/span').get_attribute('innerHTML').split(' ')\n",
    "\n",
    "        for word in caption:\n",
    "            if remove_emojis(word) !='':\n",
    "                if word.find('#')>-1: \n",
    "                    freq_hashtags[word[word.find('#'):word.find('<')]]=freq_hashtags.get(word[word.find('#'):word.find('<')],0)+1\n",
    "\n",
    "        time.sleep(2)\n",
    "        \n",
    "        try:\n",
    "            driver.find_elements_by_class_name('wpO6b')[16].click()\n",
    "        except:\n",
    "            try:\n",
    "                driver.find_elements_by_class_name('wpO6b')[30].click()\n",
    "            except:\n",
    "                try:\n",
    "                    driver.find_elements_by_class_name('wpO6b')[28].click()\n",
    "                except:\n",
    "                    driver.find_elements_by_class_name('wpO6b')[26].click()\n",
    "        time.sleep(1)  \n",
    "        \n",
    "        #Break case \n",
    "        if t==10:\n",
    "            break\n",
    "        t+=1\n",
    "        \n",
    "    #Calculating average likes and appending\n",
    "    avg_likes.append(round(likes/10,2))\n",
    "    print(avg_likes)\n",
    "    print(freq_hashtags)\n",
    "    "
   ]
  },
  {
   "cell_type": "code",
   "execution_count": 117,
   "metadata": {},
   "outputs": [],
   "source": [
    "#Writing into a csv file\n",
    "\n",
    "header = ['word','frequency']\n",
    "with open('word_frequencies.csv','wt') as f:\n",
    "    csv_writer=csv.writer(f)\n",
    "    csv_writer.writerow(header)\n",
    "    \n",
    "    for word,freq in freq_hashtags.items():\n",
    "        csv_writer.writerow([word.replace('#',''),freq])"
   ]
  },
  {
   "cell_type": "code",
   "execution_count": 118,
   "metadata": {},
   "outputs": [
    {
     "name": "stdout",
     "output_type": "stream",
     "text": [
      "['word', 'frequency']\n",
      "[]\n",
      "['I', '1']\n",
      "[]\n",
      "['can', '1']\n",
      "[]\n",
      "['taste', '1']\n",
      "[]\n",
      "['this', '1']\n",
      "[]\n",
      "['through', '1']\n",
      "[]\n",
      "['the', '1']\n",
      "[]\n",
      "['phone', '1']\n",
      "[]\n",
      "['Chicken', '1']\n",
      "[]\n",
      "['cutlet,', '1']\n",
      "[]\n",
      "['mozzarella', '1']\n",
      "[]\n",
      "['and', '1']\n",
      "[]\n",
      "['pesto', '1']\n",
      "[]\n",
      "['Chocolate', '1']\n",
      "[]\n",
      "['chip', '1']\n",
      "[]\n",
      "['cookies', '1']\n",
      "[]\n",
      "['to', '1']\n",
      "[]\n",
      "['make', '1']\n",
      "[]\n",
      "['you', '1']\n",
      "[]\n",
      "['drool', '1']\n",
      "[]\n",
      "['Watching', '1']\n",
      "[]\n",
      "['pizza', '1']\n",
      "[]\n",
      "['being', '1']\n",
      "[]\n",
      "['made', '1']\n",
      "[]\n",
      "['makes', '1']\n",
      "[]\n",
      "['me', '1']\n",
      "[]\n",
      "['so', '1']\n",
      "[]\n",
      "['hungry,', '1']\n",
      "[]\n",
      "['anyone', '1']\n",
      "[]\n",
      "['else?', '1']\n",
      "[]\n"
     ]
    }
   ],
   "source": [
    "#Reading the csv file\n",
    "\n",
    "with open('word_frequencies.csv','rt') as f:\n",
    "    csv_reader=csv.reader(f)\n",
    "    for line in csv_reader:\n",
    "        print(line)"
   ]
  },
  {
   "cell_type": "code",
   "execution_count": 123,
   "metadata": {},
   "outputs": [
    {
     "name": "stdout",
     "output_type": "stream",
     "text": [
      "#beer 1\n",
      "#beerslushie 1\n",
      "#happyhour 1\n",
      "#summer 1\n",
      "#dilsefoodie 1\n"
     ]
    }
   ],
   "source": [
    "#Finding top 5 used hashtags\n",
    "\n",
    "#Sorting in Descending order\n",
    "sorted_hashtag=sorted(freq_hashtags.items(),key=lambda x:float(x[1]),reverse=True)\n",
    "top_words={}\n",
    "t=0\n",
    "\n",
    "#Extracting top 5\n",
    "for i in sorted_hashtag:\n",
    "    print(i[0],i[1])\n",
    "    top_words[i[0]]=i[1]\n",
    "    if t==4:\n",
    "        break\n",
    "    t+=1\n",
    "\n",
    "    "
   ]
  },
  {
   "cell_type": "code",
   "execution_count": 125,
   "metadata": {},
   "outputs": [
    {
     "data": {
      "image/png": "[encoded data removed]",
      "text/plain": [
       "<Figure size 720x504 with 1 Axes>"
      ]
     },
     "metadata": {},
     "output_type": "display_data"
    }
   ],
   "source": [
    "#Plotting a pie chart\n",
    "\n",
    "fig=plt.figure(figsize=(10,7))\n",
    "lab=[]\n",
    "data=[]\n",
    "for x,y in top_words.items():\n",
    "    lab.append(x)\n",
    "    data.append(y)\n",
    "plt.pie(data,labels=lab)\n",
    "plt.show()"
   ]
  },
  {
   "cell_type": "code",
   "execution_count": 148,
   "metadata": {},
   "outputs": [
    {
     "name": "stdout",
     "output_type": "stream",
     "text": [
      "[1487.55, 1072.46, 335.65, 100.83, 221.72]\n"
     ]
    }
   ],
   "source": [
    "#Calculating follow to like ratio\n",
    "\n",
    "follow_to_like_ratio=[]\n",
    "for i in range(5):\n",
    "    follow_to_like_ratio.append(round(list_of_5_fols[i]/avg_likes[i],2))\n",
    "print(follow_to_like_ratio)"
   ]
  },
  {
   "cell_type": "code",
   "execution_count": 149,
   "metadata": {},
   "outputs": [
    {
     "data": {
      "image/png": "[encoded data removed]",
      "text/plain": [
       "<Figure size 432x288 with 1 Axes>"
      ]
     },
     "metadata": {
      "needs_background": "light"
     },
     "output_type": "display_data"
    }
   ],
   "source": [
    "#Plotting the bar graph\n",
    "\n",
    "fig=plt.figure()\n",
    "ax=fig.add_axes([0,0,1,1])\n",
    "ax.bar(list_of_5,follow_to_like_ratio)\n",
    "plt.show()"
   ]
  },
  {
   "cell_type": "code",
   "execution_count": null,
   "metadata": {},
   "outputs": [],
   "source": []
  }
 ],
 "metadata": {
  "kernelspec": {
   "display_name": "Python 3",
   "language": "python",
   "name": "python3"
  },
  "language_info": {
   "codemirror_mode": {
    "name": "ipython",
    "version": 3
   },
   "file_extension": ".py",
   "mimetype": "text/x-python",
   "name": "python",
   "nbconvert_exporter": "python",
   "pygments_lexer": "ipython3",
   "version": "3.7.6"
  }
 },
 "nbformat": 4,
 "nbformat_minor": 4
}
